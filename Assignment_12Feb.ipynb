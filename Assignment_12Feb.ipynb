{
 "cells": [
  {
   "cell_type": "markdown",
   "id": "78ca034a-25f6-433a-8f9c-78f7a806944b",
   "metadata": {},
   "source": [
    "## Q1. What is an Exception in python? Write the difference between Exceptions and syntax errors."
   ]
  },
  {
   "cell_type": "markdown",
   "id": "15a6a18e-3b05-4762-87c8-d54682cfd6a0",
   "metadata": {},
   "source": [
    "### Ans : exceptions are raised when some internal events occur which disrupts the normal flow of the program..Error in Python can be of two types i.e. Syntax errors and Exceptions. Errors are the problems in a program due to which the program will stop the execution. On the other hand, exceptions are raised when some internal events occur which changes the normal flow of the program."
   ]
  },
  {
   "cell_type": "markdown",
   "id": "654e115f-d431-40a0-83fa-b4ab787f98a9",
   "metadata": {},
   "source": [
    "## Q2. What happens when an exception is not handled?Explain with an Example."
   ]
  },
  {
   "cell_type": "markdown",
   "id": "b1eb936a-3659-4f1e-9788-3fd36c9154dd",
   "metadata": {},
   "source": [
    "### Ans: When an Exception is not handled the execution of the program stops after the piece of code in which the Exception occurred."
   ]
  },
  {
   "cell_type": "code",
   "execution_count": 1,
   "id": "df194958-8136-4525-8906-9d1bfe19ff3d",
   "metadata": {},
   "outputs": [
    {
     "ename": "ZeroDivisionError",
     "evalue": "division by zero",
     "output_type": "error",
     "traceback": [
      "\u001b[0;31m---------------------------------------------------------------------------\u001b[0m",
      "\u001b[0;31mZeroDivisionError\u001b[0m                         Traceback (most recent call last)",
      "Cell \u001b[0;32mIn[1], line 2\u001b[0m\n\u001b[1;32m      1\u001b[0m a \u001b[38;5;241m=\u001b[39m \u001b[38;5;241m10\u001b[39m\n\u001b[0;32m----> 2\u001b[0m a \u001b[38;5;241m=\u001b[39m \u001b[43ma\u001b[49m\u001b[38;5;241;43m/\u001b[39;49m\u001b[38;5;241;43m0\u001b[39;49m\n\u001b[1;32m      3\u001b[0m \u001b[38;5;28mprint\u001b[39m(a\u001b[38;5;241m+\u001b[39m\u001b[38;5;241m6\u001b[39m)\n",
      "\u001b[0;31mZeroDivisionError\u001b[0m: division by zero"
     ]
    }
   ],
   "source": [
    "a = 10\n",
    "a = a/0\n",
    "print(a+6)"
   ]
  },
  {
   "cell_type": "markdown",
   "id": "09673a0e-16fe-4767-86b5-b73eb3ff2b3c",
   "metadata": {},
   "source": [
    "## Q3. Which python statement are used to catch and handle exceptions?Explain with an example."
   ]
  },
  {
   "cell_type": "markdown",
   "id": "6677473e-5c4c-4dd7-9960-982e73458be1",
   "metadata": {},
   "source": [
    "### Ans : try and except statement are used to catch and handle exceptions. "
   ]
  },
  {
   "cell_type": "code",
   "execution_count": 3,
   "id": "da57f07e-1aba-4e0c-8b50-a55562c21b85",
   "metadata": {},
   "outputs": [
    {
     "name": "stdin",
     "output_type": "stream",
     "text": [
      "Enter first number:  10\n",
      "Enter second number:  0\n"
     ]
    },
    {
     "name": "stdout",
     "output_type": "stream",
     "text": [
      "The second number should be non_zero because of which it is giving division by zero Exception\n"
     ]
    }
   ],
   "source": [
    "try:\n",
    "    a = int(input(\"Enter first number: \"))\n",
    "    b = int(input(\"Enter second number: \"))\n",
    "    print(a/b)\n",
    "except Exception as e:\n",
    "    print(\"The second number should be non_zero because of which it is giving\",e,\"Exception\")"
   ]
  },
  {
   "cell_type": "markdown",
   "id": "686c5ce6-8d52-4be1-ae16-d0ee88af9040",
   "metadata": {},
   "source": [
    "## Q4. Explain with an Example:\n",
    "1) try and else\n",
    "2) finally\n",
    "3) raise"
   ]
  },
  {
   "cell_type": "code",
   "execution_count": 4,
   "id": "5c458f35-6231-4223-9ff3-f2c3189cac2c",
   "metadata": {},
   "outputs": [
    {
     "name": "stdin",
     "output_type": "stream",
     "text": [
      "Enter first number:  25\n",
      "Enter second number:  5\n"
     ]
    },
    {
     "name": "stdout",
     "output_type": "stream",
     "text": [
      "Division of first number by second number gives 5.0\n"
     ]
    }
   ],
   "source": [
    "try:\n",
    "    a = int(input(\"Enter first number: \"))\n",
    "    b = int(input(\"Enter second number: \"))\n",
    "    x = a/b\n",
    "except Exception as e:\n",
    "    print(\"The second number should be non_zero because of which it is giving\",e,\"Exception\")\n",
    "else:\n",
    "    print(\"Division of first number by second number gives\",x)"
   ]
  },
  {
   "cell_type": "code",
   "execution_count": 5,
   "id": "a9471851-0ad0-4272-a977-6fc825449f6e",
   "metadata": {},
   "outputs": [
    {
     "name": "stdin",
     "output_type": "stream",
     "text": [
      "Enter first number:  20\n",
      "Enter second number:  0\n"
     ]
    },
    {
     "name": "stdout",
     "output_type": "stream",
     "text": [
      "The second number should be non_zero because of which it is giving division by zero Exception\n"
     ]
    }
   ],
   "source": [
    "try:\n",
    "    a = int(input(\"Enter first number: \"))\n",
    "    b = int(input(\"Enter second number: \"))\n",
    "    x = a/b\n",
    "except Exception as e:\n",
    "    print(\"The second number should be non_zero because of which it is giving\",e,\"Exception\")\n",
    "else:\n",
    "    print(\"Division of first number by second number gives\",x)"
   ]
  },
  {
   "cell_type": "code",
   "execution_count": 6,
   "id": "d191a62a-89d1-4933-8bc9-ade2705da63b",
   "metadata": {},
   "outputs": [
    {
     "name": "stdin",
     "output_type": "stream",
     "text": [
      "Enter first number:  25\n",
      "Enter second number:  0\n"
     ]
    },
    {
     "name": "stdout",
     "output_type": "stream",
     "text": [
      "The second number should be non_zero because of which it is giving division by zero Exception\n",
      "This finally block is always executed even if the Exception occurs!\n"
     ]
    }
   ],
   "source": [
    "try:\n",
    "    a = int(input(\"Enter first number: \"))\n",
    "    b = int(input(\"Enter second number: \"))\n",
    "    x = a/b\n",
    "except Exception as e:\n",
    "    print(\"The second number should be non_zero because of which it is giving\",e,\"Exception\")\n",
    "else:\n",
    "    print(\"Division of first number by second number gives\",x)\n",
    "finally:\n",
    "    print(\"This finally block is always executed even if the Exception occurs!\")"
   ]
  },
  {
   "cell_type": "code",
   "execution_count": 7,
   "id": "28364731-f796-4a7e-ae39-520f9696ead3",
   "metadata": {},
   "outputs": [],
   "source": [
    "class validateage(Exception):\n",
    "    def __init__(self,msg):\n",
    "        self.msg = msg"
   ]
  },
  {
   "cell_type": "code",
   "execution_count": 8,
   "id": "b6af3097-2ab3-4809-a7f4-728ffd585721",
   "metadata": {},
   "outputs": [],
   "source": [
    "def validate_age(age):\n",
    "    if age < 18:\n",
    "        raise validateage(\"Your are not eligible for issue of a driving license\")\n",
    "    else:\n",
    "        print(\"You are eligible for issue of a driving license\")"
   ]
  },
  {
   "cell_type": "code",
   "execution_count": 10,
   "id": "3de3c1b8-5876-4404-b8e7-9f2e94c804b3",
   "metadata": {},
   "outputs": [
    {
     "name": "stdout",
     "output_type": "stream",
     "text": [
      "You are eligible for issue of a driving license\n"
     ]
    }
   ],
   "source": [
    "validate_age(20)"
   ]
  },
  {
   "cell_type": "code",
   "execution_count": 11,
   "id": "745a6cf3-060b-4ea8-a7cb-21259c5baee4",
   "metadata": {},
   "outputs": [
    {
     "name": "stdin",
     "output_type": "stream",
     "text": [
      "Enter your age:  15\n"
     ]
    },
    {
     "name": "stdout",
     "output_type": "stream",
     "text": [
      "Your are not eligible for issue of a driving license\n"
     ]
    }
   ],
   "source": [
    "try:\n",
    "    age = int(input(\"Enter your age: \"))\n",
    "    validate_age(age)\n",
    "except validateage as e:\n",
    "    print(e)"
   ]
  },
  {
   "cell_type": "markdown",
   "id": "a0940ac2-32aa-4c76-be62-0ec7a14fc72d",
   "metadata": {},
   "source": [
    "## Q5. What are Custom Exceptions in python?Why do we need Custom Exceptions?Explain with an example."
   ]
  },
  {
   "cell_type": "markdown",
   "id": "8e1fe7e6-1d11-4cbd-ba35-b621c1560a5f",
   "metadata": {},
   "source": [
    "### Ans : Custom Exceptions are user_defined Exceptions that are meant to throw to a exception along with a particular message to the user.In some cases we want program to throw an exception which is not a pre_defined Exception but it is an problem to us,so we use custom exception to throw a user_defined Exception."
   ]
  },
  {
   "cell_type": "markdown",
   "id": "cab310a7-975c-4923-8925-204f007de304",
   "metadata": {},
   "source": [
    "### For eg. The age for voting is greater than 18 and we want to throw an exception if the age of the user is below 18 as he/she will not be eligible for voting."
   ]
  },
  {
   "cell_type": "code",
   "execution_count": 2,
   "id": "fcdaa37c-3c9f-4621-9d52-8b1157deaa94",
   "metadata": {},
   "outputs": [],
   "source": [
    "class checkage(Exception):\n",
    "    def __init__(self,msg):\n",
    "        self.msg = msg"
   ]
  },
  {
   "cell_type": "code",
   "execution_count": 7,
   "id": "3d546aad-ce7e-4a15-ba8b-5a4bf917f8e7",
   "metadata": {},
   "outputs": [],
   "source": [
    "def check_age(age):\n",
    "    if age < 18:\n",
    "        raise checkage(\"Your are not eligible for voting\\nYour age is less than 18\")\n",
    "    else:\n",
    "        print(\"You are eligible voting\")"
   ]
  },
  {
   "cell_type": "code",
   "execution_count": 8,
   "id": "2b377466-5370-41a4-9c56-9b117f2269ab",
   "metadata": {},
   "outputs": [
    {
     "name": "stdin",
     "output_type": "stream",
     "text": [
      "Enter your age:  16\n"
     ]
    },
    {
     "name": "stdout",
     "output_type": "stream",
     "text": [
      "Your are not eligible for voting\n",
      "Your age is less than 18\n"
     ]
    }
   ],
   "source": [
    "try:\n",
    "    age = int(input(\"Enter your age: \"))\n",
    "    check_age(age)\n",
    "except checkage as e:\n",
    "    print(e)"
   ]
  },
  {
   "cell_type": "code",
   "execution_count": null,
   "id": "3ef34fdc-89eb-4931-b1da-cf368a7ecd2c",
   "metadata": {},
   "outputs": [],
   "source": []
  }
 ],
 "metadata": {
  "kernelspec": {
   "display_name": "Python 3 (ipykernel)",
   "language": "python",
   "name": "python3"
  },
  "language_info": {
   "codemirror_mode": {
    "name": "ipython",
    "version": 3
   },
   "file_extension": ".py",
   "mimetype": "text/x-python",
   "name": "python",
   "nbconvert_exporter": "python",
   "pygments_lexer": "ipython3",
   "version": "3.10.8"
  }
 },
 "nbformat": 4,
 "nbformat_minor": 5
}
